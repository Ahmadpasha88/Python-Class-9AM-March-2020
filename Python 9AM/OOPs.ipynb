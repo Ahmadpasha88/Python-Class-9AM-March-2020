{
 "cells": [
  {
   "cell_type": "code",
   "execution_count": 2,
   "metadata": {},
   "outputs": [
    {
     "name": "stdout",
     "output_type": "stream",
     "text": [
      "Hello this is doc string\n",
      "Help on class Student in module __main__:\n",
      "\n",
      "class Student(builtins.object)\n",
      " |  Hello this is doc string\n",
      " |  \n",
      " |  Data descriptors defined here:\n",
      " |  \n",
      " |  __dict__\n",
      " |      dictionary for instance variables (if defined)\n",
      " |  \n",
      " |  __weakref__\n",
      " |      list of weak references to the object (if defined)\n",
      "\n"
     ]
    }
   ],
   "source": [
    "class Student:\n",
    "    '''Hello this is doc string'''\n",
    "print(Student.__doc__)\n",
    "help(Student)"
   ]
  },
  {
   "cell_type": "markdown",
   "metadata": {},
   "source": [
    "# Constructor:"
   ]
  },
  {
   "cell_type": "code",
   "execution_count": null,
   "metadata": {},
   "outputs": [],
   "source": [
    "def __init__(self,name,id,marks):\n",
    "    self.name=name\n",
    "    self.id=id\n",
    "    self.marks=marks"
   ]
  },
  {
   "cell_type": "code",
   "execution_count": 6,
   "metadata": {},
   "outputs": [
    {
     "name": "stdout",
     "output_type": "stream",
     "text": [
      "Constructor execution....\n",
      "Constructor execution....\n",
      "Constructor execution....\n",
      "Method execution\n",
      "1800497304456\n",
      "1800497304456\n",
      "1800496990024\n"
     ]
    }
   ],
   "source": [
    "#program to create constructor and will executes only once\n",
    "class Test:\n",
    "    def __init__(self):\n",
    "        print(\"Constructor execution....\")\n",
    "    def m1(self):\n",
    "        print(\"Method execution\")\n",
    "t1=Test()\n",
    "t1=Test()\n",
    "t3=Test()\n",
    "t1.m1()\n",
    "print(id(t1))\n",
    "print(id(t1))\n",
    "print(id(t3))"
   ]
  },
  {
   "cell_type": "code",
   "execution_count": 7,
   "metadata": {},
   "outputs": [
    {
     "name": "stdout",
     "output_type": "stream",
     "text": [
      "Student name: Venky ID: 1234 Makrs: 80\n"
     ]
    }
   ],
   "source": [
    "#program for class with constructor, instance method\n",
    "class Student:\n",
    "    ''' This is test class to understand class and constructor, instance method'''\n",
    "    def __init__(self,x,y,z):\n",
    "        self.name=x\n",
    "        self.id=y\n",
    "        self.marks=z\n",
    "    def details(self):\n",
    "        print(\"Student name:\",self.name,\"ID:\",self.id,\"Makrs:\",self.marks)\n",
    "s1=Student(\"Venky\",1234,80)\n",
    "s1.details()"
   ]
  },
  {
   "cell_type": "markdown",
   "metadata": {},
   "source": [
    "# Types of Variables:\n",
    "    "
   ]
  },
  {
   "cell_type": "code",
   "execution_count": null,
   "metadata": {},
   "outputs": [],
   "source": [
    "1. Instance variable(Object level variables)\n",
    "2. Static Variables(Class Level Variables)\n",
    "3. Local Variables(Method level Variables)\n"
   ]
  },
  {
   "cell_type": "markdown",
   "metadata": {},
   "source": [
    "# 1. Instance Variables:"
   ]
  },
  {
   "cell_type": "code",
   "execution_count": null,
   "metadata": {},
   "outputs": [],
   "source": [
    "If the value of variable varied from object to object \n",
    "note: for every object a separate copy of instance variable will be create\n",
    "    "
   ]
  },
  {
   "cell_type": "markdown",
   "metadata": {},
   "source": [
    "### Where we can declare Instance variables:"
   ]
  },
  {
   "cell_type": "code",
   "execution_count": null,
   "metadata": {},
   "outputs": [],
   "source": [
    "1. Inside constructor with help of self variable\n",
    "2. Inside instance method with self variable\n",
    "3. Outside of the class with Object reference variable"
   ]
  },
  {
   "cell_type": "code",
   "execution_count": 3,
   "metadata": {},
   "outputs": [
    {
     "name": "stdout",
     "output_type": "stream",
     "text": [
      "{'name': 'Venky', 'marks': 100, 'ID': 1234, 'age': 22}\n"
     ]
    }
   ],
   "source": [
    "#example program\n",
    "class Student:\n",
    "    #inside constructor\n",
    "    def __init__(self):\n",
    "        self.name=\"Venky\"\n",
    "        self.marks=100\n",
    "    #inside instance method\n",
    "    def m1(self):\n",
    "        self.ID=1234\n",
    "#outside of the class\n",
    "x=Student()  # this object reference variable creation \n",
    "x.m1()\n",
    "x.age=22 # creating instance variable with object reference variable\n",
    "\n",
    "print(x.__dict__)"
   ]
  },
  {
   "cell_type": "markdown",
   "metadata": {},
   "source": [
    "# How to access instance variables:"
   ]
  },
  {
   "cell_type": "markdown",
   "metadata": {},
   "source": [
    "We can access instance variables with in the class by using self variable, out side of the class with object reference variable\n"
   ]
  },
  {
   "cell_type": "code",
   "execution_count": 4,
   "metadata": {},
   "outputs": [
    {
     "name": "stdout",
     "output_type": "stream",
     "text": [
      "Venky\n",
      "100\n",
      "Venky 100\n"
     ]
    }
   ],
   "source": [
    "class Student:\n",
    "    def __init__(self):\n",
    "        self.name=\"Venky\"\n",
    "        self.marks=100\n",
    "    def m1(self):\n",
    "        print(self.name)\n",
    "        print(self.marks)\n",
    "x=Student()\n",
    "x.m1()\n",
    "print(x.name,x.marks)\n",
    "    "
   ]
  },
  {
   "cell_type": "markdown",
   "metadata": {},
   "source": [
    "# How to delete instance Variable from the object"
   ]
  },
  {
   "cell_type": "code",
   "execution_count": null,
   "metadata": {},
   "outputs": [],
   "source": [
    "1. Within the class we can delete instance variables with self\n",
    "Example: del self.variableName\n",
    "2. From outside of the class we can delete instance variable with object reference variable\n",
    "Example: del objectreferencevariable.variablename\n",
    "    "
   ]
  },
  {
   "cell_type": "code",
   "execution_count": 8,
   "metadata": {},
   "outputs": [
    {
     "name": "stdout",
     "output_type": "stream",
     "text": [
      "{'marks': 90}\n"
     ]
    }
   ],
   "source": [
    "#example program to delete instance variables inside class\n",
    "class Student:\n",
    "    def __init__(self):\n",
    "        self.name=\"Venky\"\n",
    "        self.marks=90\n",
    "        \n",
    "    def m1(self):\n",
    "        del self.name\n",
    "x=Student()\n",
    "x.m1()\n",
    "print(x.__dict__)"
   ]
  },
  {
   "cell_type": "code",
   "execution_count": 13,
   "metadata": {},
   "outputs": [
    {
     "name": "stdout",
     "output_type": "stream",
     "text": [
      "{'marks': 90}\n"
     ]
    }
   ],
   "source": [
    "#example program to delete instance variables outside class\n",
    "class Student:\n",
    "    def __init__(self):\n",
    "        self.name=\"Venky\"\n",
    "        self.marks=90\n",
    "        \n",
    "    \n",
    "x=Student()\n",
    "del x.name\n",
    "print(x.__dict__)"
   ]
  },
  {
   "cell_type": "code",
   "execution_count": null,
   "metadata": {},
   "outputs": [],
   "source": []
  }
 ],
 "metadata": {
  "kernelspec": {
   "display_name": "Python 3",
   "language": "python",
   "name": "python3"
  },
  "language_info": {
   "codemirror_mode": {
    "name": "ipython",
    "version": 3
   },
   "file_extension": ".py",
   "mimetype": "text/x-python",
   "name": "python",
   "nbconvert_exporter": "python",
   "pygments_lexer": "ipython3",
   "version": "3.7.4"
  }
 },
 "nbformat": 4,
 "nbformat_minor": 4
}
